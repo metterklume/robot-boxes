{
 "cells": [
  {
   "cell_type": "code",
   "execution_count": 1,
   "id": "26fd79db",
   "metadata": {},
   "outputs": [],
   "source": [
    "%load_ext autoreload\n",
    "%autoreload 2\n",
    "%matplotlib inline"
   ]
  },
  {
   "cell_type": "markdown",
   "id": "d9f21b9e",
   "metadata": {},
   "source": [
    "## MALAI Challenge - Dots and Boxes"
   ]
  },
  {
   "cell_type": "markdown",
   "id": "7f6885c6",
   "metadata": {},
   "source": [
    "In [Dots and Boxes](https://en.wikipedia.org/wiki/Dots_and_boxes) two players alternately draw short horizontal or vertical lines on a grid.\n",
    "When a player completes a box, they get another turn. \n",
    "\n",
    "Passing is not allowed.\n",
    "\n",
    "The game ends when all possible lines have been drawn. The player who has completed\n",
    "the most boxes wins.\n",
    "\n",
    "The game is very simple to play but hard to play well!\n",
    "\n",
    "---------\n",
    "\n",
    "Your challenge should you choose to accept it, is to write a robot that plays Dots and Boxes.\n",
    "\n",
    "A robot is a Python function that takes a `board` and makes a `move`.\n",
    "\n",
    "We will explain both these concept below. "
   ]
  },
  {
   "cell_type": "code",
   "execution_count": 2,
   "id": "974e16af",
   "metadata": {},
   "outputs": [],
   "source": [
    "from board import Board\n",
    "from draw import drawboard"
   ]
  },
  {
   "cell_type": "code",
   "execution_count": 3,
   "id": "9b8cbba7",
   "metadata": {},
   "outputs": [
    {
     "data": {
      "image/png": "[encoded data removed]",
      "text/plain": [
       "<PIL.PngImagePlugin.PngImageFile image mode=RGBA size=250x251 at 0x11FE5B5E0>"
      ]
     },
     "execution_count": 3,
     "metadata": {},
     "output_type": "execute_result"
    }
   ],
   "source": [
    "board = Board(size=2, lines=[(0, 1, 1, 1), (0, 1, 0, 2), (0, 2, 1, 2), (1, 2, 2, 2)], red_boxes=[], blue_boxes=[])\n",
    "drawboard(board,size=3)"
   ]
  },
  {
   "cell_type": "markdown",
   "id": "772349be",
   "metadata": {},
   "source": [
    "size  --> number of boxes in each row and column. Total boxes = size*size\n",
    "\n",
    "lines --> lines on the board. each line (i,j,r,s) goes from (i,j) to (r,s)\n",
    "\n",
    "We use the convention that i<=j and r<=s so lines go rightwards and upwards"
   ]
  },
  {
   "cell_type": "markdown",
   "id": "fd26c793",
   "metadata": {},
   "source": [
    "Let's make a move! A move is a list of one or more lines."
   ]
  },
  {
   "cell_type": "code",
   "execution_count": 4,
   "id": "193fe8b2",
   "metadata": {},
   "outputs": [],
   "source": [
    "from board import makemove, isvalidmove\n",
    "move = [(1,0,1,1)]\n",
    "board2 = makemove(board, move, 0)"
   ]
  },
  {
   "cell_type": "code",
   "execution_count": 5,
   "id": "a66efa3c",
   "metadata": {},
   "outputs": [
    {
     "data": {
      "text/plain": [
       "True"
      ]
     },
     "execution_count": 5,
     "metadata": {},
     "output_type": "execute_result"
    }
   ],
   "source": [
    "isvalidmove(board, move)"
   ]
  },
  {
   "cell_type": "code",
   "execution_count": 6,
   "id": "f6c8134a",
   "metadata": {},
   "outputs": [
    {
     "data": {
      "image/png": "[encoded data removed]",
      "text/plain": [
       "<PIL.PngImagePlugin.PngImageFile image mode=RGBA size=250x251 at 0x11FF326D0>"
      ]
     },
     "execution_count": 6,
     "metadata": {},
     "output_type": "execute_result"
    }
   ],
   "source": [
    "drawboard(board2, 3)"
   ]
  },
  {
   "cell_type": "markdown",
   "id": "6779f47a",
   "metadata": {},
   "source": [
    "Let's make another move!"
   ]
  },
  {
   "cell_type": "code",
   "execution_count": 7,
   "id": "cb7b1705",
   "metadata": {},
   "outputs": [
    {
     "data": {
      "text/plain": [
       "False"
      ]
     },
     "execution_count": 7,
     "metadata": {},
     "output_type": "execute_result"
    }
   ],
   "source": [
    "move = [(1,1,1,2)]\n",
    "isvalidmove(board, move)"
   ]
  },
  {
   "cell_type": "markdown",
   "id": "69847515",
   "metadata": {},
   "source": [
    "Why is this move invalid?"
   ]
  },
  {
   "cell_type": "code",
   "execution_count": 8,
   "id": "fe52d639",
   "metadata": {},
   "outputs": [
    {
     "data": {
      "text/plain": [
       "[(0, 1)]"
      ]
     },
     "execution_count": 8,
     "metadata": {},
     "output_type": "execute_result"
    }
   ],
   "source": [
    "from board import getnewboxes\n",
    "\n",
    "getnewboxes(board.lines, move[0])"
   ]
  },
  {
   "cell_type": "markdown",
   "id": "171ad9bf",
   "metadata": {},
   "source": [
    "When you make a box, you have to make another move, and so on till either \n",
    "\n",
    "1. Your line does not make a box\n",
    "2. The game ends\n",
    "\n",
    "Remember: No passing."
   ]
  },
  {
   "cell_type": "code",
   "execution_count": 9,
   "id": "11d054b3",
   "metadata": {},
   "outputs": [],
   "source": [
    "move = [(1,1,1,2), (1,0,1,1)]\n",
    "board3 = makemove(board, move, 1)"
   ]
  },
  {
   "cell_type": "code",
   "execution_count": 10,
   "id": "3ab1ce3d",
   "metadata": {},
   "outputs": [
    {
     "data": {
      "text/plain": [
       "True"
      ]
     },
     "execution_count": 10,
     "metadata": {},
     "output_type": "execute_result"
    }
   ],
   "source": [
    "isvalidmove(board,move)"
   ]
  },
  {
   "cell_type": "code",
   "execution_count": 11,
   "id": "9137792b",
   "metadata": {},
   "outputs": [
    {
     "data": {
      "image/png": "[encoded data removed]",
      "text/plain": [
       "<PIL.PngImagePlugin.PngImageFile image mode=RGBA size=328x328 at 0x11FF8DB80>"
      ]
     },
     "execution_count": 11,
     "metadata": {},
     "output_type": "execute_result"
    }
   ],
   "source": [
    "drawboard(board3)"
   ]
  },
  {
   "cell_type": "markdown",
   "id": "b2b464c3",
   "metadata": {},
   "source": [
    "Red = Player 0 moves first.\n",
    "\n",
    "Blue = Player 1 moves second."
   ]
  },
  {
   "cell_type": "markdown",
   "id": "ae53d309",
   "metadata": {},
   "source": [
    "## A very simple robot"
   ]
  },
  {
   "attachments": {},
   "cell_type": "markdown",
   "id": "8acc9b81",
   "metadata": {},
   "source": [
    "The simplest strategy is to draw a line at random.\n",
    "\n",
    "Check if it makes a box. If so, draw another line at random...\n",
    "\n",
    "That's it."
   ]
  },
  {
   "cell_type": "code",
   "execution_count": 12,
   "id": "150750b6",
   "metadata": {},
   "outputs": [],
   "source": [
    "import random\n",
    "from typing import List\n",
    "from board import get_all_lines, Line\n",
    "\n",
    "def make_random_move(board:Board)->List[Line]:\n",
    "    n = board.size\n",
    "    #All lines have already been made\n",
    "    if len(board.lines) >= 2*n*(n+1):\n",
    "        return []\n",
    "    \n",
    "    options = [l for l in get_all_lines(n) if l not in board.lines]\n",
    "    line = random.choice(options)\n",
    "    move = [line]\n",
    "    options.remove(line)\n",
    "\n",
    "    #As long as the line makes a box and is not the last line,\n",
    "    #make another line\n",
    "    while options and getnewboxes(board.lines+move[:-1], line):\n",
    "        line = random.choice(options)\n",
    "        move += [line]\n",
    "        options.remove(line)\n",
    "\n",
    "    if not isvalidmove(board, move):\n",
    "        print(\"Oops\",board,move)\n",
    "\n",
    "    return move"
   ]
  },
  {
   "cell_type": "markdown",
   "id": "11be703d",
   "metadata": {},
   "source": [
    "#### Let's play random vs random. "
   ]
  },
  {
   "cell_type": "code",
   "execution_count": 13,
   "id": "cf54af51",
   "metadata": {},
   "outputs": [
    {
     "name": "stdout",
     "output_type": "stream",
     "text": [
      "Board(size=2, lines=[], red_boxes=[], blue_boxes=[]) [(0, 2, 1, 2)]\n",
      "Board(size=2, lines=[(0, 2, 1, 2)], red_boxes=[], blue_boxes=[]) [(0, 1, 0, 2)]\n",
      "Board(size=2, lines=[(0, 2, 1, 2), (0, 1, 0, 2)], red_boxes=[], blue_boxes=[]) [(1, 1, 2, 1)]\n",
      "Board(size=2, lines=[(0, 2, 1, 2), (0, 1, 0, 2), (1, 1, 2, 1)], red_boxes=[], blue_boxes=[]) [(1, 0, 2, 0)]\n",
      "Board(size=2, lines=[(0, 2, 1, 2), (0, 1, 0, 2), (1, 1, 2, 1), (1, 0, 2, 0)], red_boxes=[], blue_boxes=[]) [(2, 0, 2, 1)]\n",
      "Board(size=2, lines=[(0, 2, 1, 2), (0, 1, 0, 2), (1, 1, 2, 1), (1, 0, 2, 0), (2, 0, 2, 1)], red_boxes=[], blue_boxes=[]) [(1, 0, 1, 1), (0, 0, 0, 1)]\n",
      "Board(size=2, lines=[(0, 2, 1, 2), (0, 1, 0, 2), (1, 1, 2, 1), (1, 0, 2, 0), (2, 0, 2, 1), (1, 0, 1, 1), (0, 0, 0, 1)], red_boxes=[], blue_boxes=[(1, 0)]) [(1, 2, 2, 2)]\n",
      "Board(size=2, lines=[(0, 2, 1, 2), (0, 1, 0, 2), (1, 1, 2, 1), (1, 0, 2, 0), (2, 0, 2, 1), (1, 0, 1, 1), (0, 0, 0, 1), (1, 2, 2, 2)], red_boxes=[], blue_boxes=[(1, 0)]) [(1, 1, 1, 2)]\n",
      "Board(size=2, lines=[(0, 2, 1, 2), (0, 1, 0, 2), (1, 1, 2, 1), (1, 0, 2, 0), (2, 0, 2, 1), (1, 0, 1, 1), (0, 0, 0, 1), (1, 2, 2, 2), (1, 1, 1, 2)], red_boxes=[], blue_boxes=[(1, 0)]) [(0, 1, 1, 1), (2, 1, 2, 2), (0, 0, 1, 0)]\n"
     ]
    }
   ],
   "source": [
    "b = Board(size=2, lines=[])\n",
    "board_list = [b]\n",
    "m = make_random_move(b)\n",
    "player = 0\n",
    "while m:\n",
    "    print(b,m)\n",
    "    b = makemove(b, m, player)\n",
    "    board_list += [b]\n",
    "    m = make_random_move(b)\n",
    "    player = 1-player"
   ]
  },
  {
   "cell_type": "code",
   "execution_count": 14,
   "id": "266dc85c",
   "metadata": {},
   "outputs": [
    {
     "data": {
      "image/png": "[encoded data removed]",
      "text/plain": [
       "<PIL.PngImagePlugin.PngImageFile image mode=RGBA size=174x174 at 0x11FF95CA0>"
      ]
     },
     "metadata": {},
     "output_type": "display_data"
    },
    {
     "data": {
      "image/png": "[encoded data removed]",
      "text/plain": [
       "<PIL.PngImagePlugin.PngImageFile image mode=RGBA size=174x174 at 0x11FE5B280>"
      ]
     },
     "metadata": {},
     "output_type": "display_data"
    },
    {
     "data": {
      "image/png": "[encoded data removed]",
      "text/plain": [
       "<PIL.PngImagePlugin.PngImageFile image mode=RGBA size=174x174 at 0x11FF324F0>"
      ]
     },
     "metadata": {},
     "output_type": "display_data"
    },
    {
     "data": {
      "image/png": "[encoded data removed]",
      "text/plain": [
       "<PIL.PngImagePlugin.PngImageFile image mode=RGBA size=174x174 at 0x11FFD0B80>"
      ]
     },
     "metadata": {},
     "output_type": "display_data"
    },
    {
     "data": {
      "image/png": "[encoded data removed]",
      "text/plain": [
       "<PIL.PngImagePlugin.PngImageFile image mode=RGBA size=174x174 at 0x11FF95D00>"
      ]
     },
     "metadata": {},
     "output_type": "display_data"
    },
    {
     "data": {
      "image/png": "[encoded data removed]",
      "text/plain": [
       "<PIL.PngImagePlugin.PngImageFile image mode=RGBA size=174x174 at 0x12E071670>"
      ]
     },
     "metadata": {},
     "output_type": "display_data"
    },
    {
     "data": {
      "image/png": "[encoded data removed]",
      "text/plain": [
       "<PIL.PngImagePlugin.PngImageFile image mode=RGBA size=174x174 at 0x12E0C96D0>"
      ]
     },
     "metadata": {},
     "output_type": "display_data"
    },
    {
     "data": {
      "image/png": "[encoded data removed]",
      "text/plain": [
       "<PIL.PngImagePlugin.PngImageFile image mode=RGBA size=174x174 at 0x12E11EF40>"
      ]
     },
     "metadata": {},
     "output_type": "display_data"
    },
    {
     "data": {
      "image/png": "[encoded data removed]",
      "text/plain": [
       "<PIL.PngImagePlugin.PngImageFile image mode=RGBA size=174x174 at 0x12E18C730>"
      ]
     },
     "metadata": {},
     "output_type": "display_data"
    },
    {
     "data": {
      "image/png": "[encoded data removed]",
      "text/plain": [
       "<PIL.PngImagePlugin.PngImageFile image mode=RGBA size=174x174 at 0x12E1E6E50>"
      ]
     },
     "metadata": {},
     "output_type": "display_data"
    }
   ],
   "source": [
    "%matplotlib inline\n",
    "from IPython.display import display\n",
    "\n",
    "ims = [drawboard(b,2) for b in board_list]\n",
    "display(*ims)"
   ]
  },
  {
   "cell_type": "markdown",
   "id": "09207cad",
   "metadata": {},
   "source": [
    "`board.py` contains all the helper functions you need.\n",
    "\n",
    "`draw.py` has the `drawboard` that we have been using."
   ]
  },
  {
   "cell_type": "markdown",
   "id": "b9379059",
   "metadata": {},
   "source": [
    "## Tips\n",
    "\n",
    "1. My code *might* have bugs.\n",
    "2. Use the validation functions. \n",
    "3. Program the simplest strategy first. "
   ]
  }
 ],
 "metadata": {
  "kernelspec": {
   "display_name": "Python 3 (ipykernel)",
   "language": "python",
   "name": "python3"
  },
  "language_info": {
   "codemirror_mode": {
    "name": "ipython",
    "version": 3
   },
   "file_extension": ".py",
   "mimetype": "text/x-python",
   "name": "python",
   "nbconvert_exporter": "python",
   "pygments_lexer": "ipython3",
   "version": "3.8.15"
  },
  "vscode": {
   "interpreter": {
    "hash": "bc18195e399a00b59958b598e1e85de09a48b66d7f79f1214243d9233bfa0c33"
   }
  }
 },
 "nbformat": 4,
 "nbformat_minor": 5
}
