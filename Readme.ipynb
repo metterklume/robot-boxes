{
 "cells": [
  {
   "cell_type": "code",
   "execution_count": 1,
   "id": "26fd79db",
   "metadata": {},
   "outputs": [],
   "source": [
    "%load_ext autoreload\n",
    "%autoreload 2\n",
    "%matplotlib inline"
   ]
  },
  {
   "cell_type": "markdown",
   "id": "d9f21b9e",
   "metadata": {},
   "source": [
    "## MALAI Challenge - Dots and Boxes"
   ]
  },
  {
   "attachments": {},
   "cell_type": "markdown",
   "id": "7f6885c6",
   "metadata": {},
   "source": [
    "In [Dots and Boxes](https://en.wikipedia.org/wiki/Dots_and_boxes) two players alternately draw short horizontal or vertical lines on a grid.\n",
    "When a player completes a box, they get another turn. \n",
    "\n",
    "Passing is not allowed.\n",
    "\n",
    "The game ends when all possible lines have been draw. The player who has completed\n",
    "the most boxes wins.\n",
    "\n",
    "The game is very simple to play but hard to play well!\n",
    "\n",
    "---------\n",
    "\n",
    "Your challenge should you choose to accept it, is to write a robot that plays Dots and Boxes.\n",
    "\n",
    "A robot is a Python function that takes a `board` and makes a `move`.\n",
    "\n",
    "We will explain both these concept below. "
   ]
  },
  {
   "cell_type": "code",
   "execution_count": 2,
   "id": "974e16af",
   "metadata": {},
   "outputs": [],
   "source": [
    "from board import Board\n",
    "from draw import drawboard"
   ]
  },
  {
   "cell_type": "code",
   "execution_count": 3,
   "id": "9b8cbba7",
   "metadata": {},
   "outputs": [
    {
     "data": {
      "image/png": "[encoded data removed]",
      "text/plain": [
       "<PIL.PngImagePlugin.PngImageFile image mode=RGBA size=250x251 at 0x11EF5CE80>"
      ]
     },
     "execution_count": 3,
     "metadata": {},
     "output_type": "execute_result"
    }
   ],
   "source": [
    "board = Board(size=2, lines=[(0, 1, 1, 1), (0, 1, 0, 2), (0, 2, 1, 2), (1, 2, 2, 2)], red_boxes=[], blue_boxes=[])\n",
    "drawboard(board,size=3)"
   ]
  },
  {
   "attachments": {},
   "cell_type": "markdown",
   "id": "772349be",
   "metadata": {},
   "source": [
    "size  --> number of boxes in each row and column. Total boxes = size*size\n",
    "\n",
    "lines --> lines on the board. each line (i,j,r,s) goes from (i,j) to (r,s)\n",
    "\n",
    "We use the convention that i<=j and r<=s so lines go rightwards and upwards"
   ]
  },
  {
   "attachments": {},
   "cell_type": "markdown",
   "id": "fd26c793",
   "metadata": {},
   "source": [
    "Let's make a move! A move is a list of one or more lines."
   ]
  },
  {
   "cell_type": "code",
   "execution_count": 7,
   "id": "193fe8b2",
   "metadata": {},
   "outputs": [],
   "source": [
    "from board import makemove, isvalidmove\n",
    "move = [(1,0,1,1)]\n",
    "board2 = makemove(board, move, 0)"
   ]
  },
  {
   "cell_type": "code",
   "execution_count": 8,
   "id": "a66efa3c",
   "metadata": {},
   "outputs": [
    {
     "data": {
      "text/plain": [
       "True"
      ]
     },
     "execution_count": 8,
     "metadata": {},
     "output_type": "execute_result"
    }
   ],
   "source": [
    "isvalidmove(board, move)"
   ]
  },
  {
   "cell_type": "code",
   "execution_count": 9,
   "id": "f6c8134a",
   "metadata": {},
   "outputs": [
    {
     "data": {
      "image/png": "[encoded data removed]",
      "text/plain": [
       "<PIL.PngImagePlugin.PngImageFile image mode=RGBA size=250x251 at 0x11F3DBB20>"
      ]
     },
     "execution_count": 9,
     "metadata": {},
     "output_type": "execute_result"
    }
   ],
   "source": [
    "drawboard(board2, 3)"
   ]
  },
  {
   "attachments": {},
   "cell_type": "markdown",
   "id": "6779f47a",
   "metadata": {},
   "source": [
    "Let's make another move!"
   ]
  },
  {
   "cell_type": "code",
   "execution_count": 10,
   "id": "cb7b1705",
   "metadata": {},
   "outputs": [
    {
     "data": {
      "text/plain": [
       "False"
      ]
     },
     "execution_count": 10,
     "metadata": {},
     "output_type": "execute_result"
    }
   ],
   "source": [
    "move = [(1,1,1,2)]\n",
    "isvalidmove(board, move)"
   ]
  },
  {
   "attachments": {},
   "cell_type": "markdown",
   "id": "69847515",
   "metadata": {},
   "source": [
    "Why is this move invalid?"
   ]
  },
  {
   "cell_type": "code",
   "execution_count": 11,
   "id": "fe52d639",
   "metadata": {},
   "outputs": [
    {
     "data": {
      "text/plain": [
       "[(0, 1)]"
      ]
     },
     "execution_count": 11,
     "metadata": {},
     "output_type": "execute_result"
    }
   ],
   "source": [
    "from board import getnewboxes\n",
    "\n",
    "getnewboxes(board.lines, move[0])"
   ]
  },
  {
   "attachments": {},
   "cell_type": "markdown",
   "id": "171ad9bf",
   "metadata": {},
   "source": [
    "When you make a box, you have to make another move, and so on till either \n",
    "\n",
    "1. Your line does not make a box\n",
    "2. The game ends\n",
    "\n",
    "Remember: No passing."
   ]
  },
  {
   "cell_type": "code",
   "execution_count": 13,
   "id": "11d054b3",
   "metadata": {},
   "outputs": [],
   "source": [
    "move = [(1,1,1,2), (1,0,1,2)]\n",
    "board3 = makemove(board2, move, 1)"
   ]
  },
  {
   "cell_type": "code",
   "execution_count": 14,
   "id": "9137792b",
   "metadata": {},
   "outputs": [
    {
     "data": {
      "image/png": "[encoded data removed]",
      "text/plain": [
       "<PIL.PngImagePlugin.PngImageFile image mode=RGBA size=328x328 at 0x11F453760>"
      ]
     },
     "execution_count": 14,
     "metadata": {},
     "output_type": "execute_result"
    }
   ],
   "source": [
    "drawboard(board3)"
   ]
  },
  {
   "attachments": {},
   "cell_type": "markdown",
   "id": "b2b464c3",
   "metadata": {},
   "source": [
    "Red = Player 0 moves first.\n",
    "\n",
    "Blue = Player 1 moves second."
   ]
  },
  {
   "attachments": {},
   "cell_type": "markdown",
   "id": "ae53d309",
   "metadata": {},
   "source": [
    "## A very simple robot"
   ]
  },
  {
   "attachments": {},
   "cell_type": "markdown",
   "id": "8acc9b81",
   "metadata": {},
   "source": [
    "The simplest strategy is to draw a line at random.\n",
    "\n",
    "Check it makes a box. If so, draw another line at random...\n",
    "\n",
    "That's it."
   ]
  },
  {
   "cell_type": "code",
   "execution_count": 16,
   "id": "150750b6",
   "metadata": {},
   "outputs": [],
   "source": [
    "import random\n",
    "from typing import List\n",
    "from board import get_all_lines, Line\n",
    "\n",
    "def make_random_move(board:Board)->List[Line]:\n",
    "    n = board.size\n",
    "    #All lines have already been made\n",
    "    if len(board.lines) >= 2*n*(n+1):\n",
    "        return []\n",
    "    \n",
    "    options = [l for l in get_all_lines(n) if l not in board.lines]\n",
    "    line = random.choice(options)\n",
    "    move = [line]\n",
    "    options.remove(line)\n",
    "\n",
    "    #As long as the line makes a box and is not the last line,\n",
    "    #make another line\n",
    "    while options and getnewboxes(board.lines+move[:-1], line):\n",
    "        line = random.choice(options)\n",
    "        move += [line]\n",
    "        options.remove(line)\n",
    "\n",
    "    if not isvalidmove(board, move):\n",
    "        print(\"Oops\",board,move)\n",
    "\n",
    "    return move"
   ]
  },
  {
   "attachments": {},
   "cell_type": "markdown",
   "id": "11be703d",
   "metadata": {},
   "source": [
    "#### Let's play random vs random. "
   ]
  },
  {
   "cell_type": "code",
   "execution_count": 18,
   "id": "cf54af51",
   "metadata": {},
   "outputs": [
    {
     "name": "stdout",
     "output_type": "stream",
     "text": [
      "Board(size=2, lines=[], red_boxes=[], blue_boxes=[]) [(2, 1, 2, 2)]\n",
      "Board(size=2, lines=[(2, 1, 2, 2)], red_boxes=[], blue_boxes=[]) [(0, 1, 0, 2)]\n",
      "Board(size=2, lines=[(2, 1, 2, 2), (0, 1, 0, 2)], red_boxes=[], blue_boxes=[]) [(0, 0, 0, 1)]\n",
      "Board(size=2, lines=[(2, 1, 2, 2), (0, 1, 0, 2), (0, 0, 0, 1)], red_boxes=[], blue_boxes=[]) [(0, 0, 1, 0)]\n",
      "Board(size=2, lines=[(2, 1, 2, 2), (0, 1, 0, 2), (0, 0, 0, 1), (0, 0, 1, 0)], red_boxes=[], blue_boxes=[]) [(1, 2, 2, 2)]\n",
      "Board(size=2, lines=[(2, 1, 2, 2), (0, 1, 0, 2), (0, 0, 0, 1), (0, 0, 1, 0), (1, 2, 2, 2)], red_boxes=[], blue_boxes=[]) [(1, 1, 2, 1)]\n",
      "Board(size=2, lines=[(2, 1, 2, 2), (0, 1, 0, 2), (0, 0, 0, 1), (0, 0, 1, 0), (1, 2, 2, 2), (1, 1, 2, 1)], red_boxes=[], blue_boxes=[]) [(0, 1, 1, 1)]\n",
      "Board(size=2, lines=[(2, 1, 2, 2), (0, 1, 0, 2), (0, 0, 0, 1), (0, 0, 1, 0), (1, 2, 2, 2), (1, 1, 2, 1), (0, 1, 1, 1)], red_boxes=[], blue_boxes=[]) [(2, 0, 2, 1)]\n",
      "Board(size=2, lines=[(2, 1, 2, 2), (0, 1, 0, 2), (0, 0, 0, 1), (0, 0, 1, 0), (1, 2, 2, 2), (1, 1, 2, 1), (0, 1, 1, 1), (2, 0, 2, 1)], red_boxes=[], blue_boxes=[]) [(0, 2, 1, 2)]\n",
      "Board(size=2, lines=[(2, 1, 2, 2), (0, 1, 0, 2), (0, 0, 0, 1), (0, 0, 1, 0), (1, 2, 2, 2), (1, 1, 2, 1), (0, 1, 1, 1), (2, 0, 2, 1), (0, 2, 1, 2)], red_boxes=[], blue_boxes=[]) [(1, 0, 2, 0)]\n",
      "Board(size=2, lines=[(2, 1, 2, 2), (0, 1, 0, 2), (0, 0, 0, 1), (0, 0, 1, 0), (1, 2, 2, 2), (1, 1, 2, 1), (0, 1, 1, 1), (2, 0, 2, 1), (0, 2, 1, 2), (1, 0, 2, 0)], red_boxes=[], blue_boxes=[]) [(1, 1, 1, 2), (1, 0, 1, 1)]\n"
     ]
    }
   ],
   "source": [
    "b = Board(size=2, lines=[])\n",
    "board_list = [b]\n",
    "m = make_random_move(b)\n",
    "player = 0\n",
    "while m:\n",
    "    print(b,m)\n",
    "    b = makemove(b,m,(\"red\",\"blue\")[player])\n",
    "    board_list += [b]\n",
    "    m = make_random_move(b)\n",
    "    player = 1-player"
   ]
  },
  {
   "cell_type": "code",
   "execution_count": null,
   "id": "2ec7d36d",
   "metadata": {},
   "outputs": [],
   "source": []
  },
  {
   "cell_type": "code",
   "execution_count": 165,
   "id": "4278d7c5",
   "metadata": {},
   "outputs": [],
   "source": [
    "def getboxes(board:Board)->List[Tuple[int,int]]:\n",
    "    \"\"\"\n",
    "    Returns list of the bottom-left corners of all filled boxes.  \n",
    "    \"\"\"\n",
    "    lines = board.lines\n",
    "    boxes = []\n",
    "    for i in range(board.size):\n",
    "        for j in range(board.size):\n",
    "            if (i,j,i+1,j) in lines and\\\n",
    "               (i,j+1,i+1,j+1) in lines and\\\n",
    "               (i,j,i,j+1) in lines and\\\n",
    "               (i+1,j,i+1,j+1) in lines:\n",
    "                boxes.append((i,j)) \n",
    "               \n",
    "    return boxes\n",
    "\n",
    "\n",
    "def countboxes(board:Board)->int:\n",
    "    \"\"\"\n",
    "    Returns number of filled boxes on the board.\n",
    "    \"\"\"\n",
    "    return len(getboxes(board))\n",
    "\n",
    "\n",
    "def isboxfilled(board:Board, box:Tuple[int,int])->bool:\n",
    "    \"\"\"\n",
    "    Given the bottom-left corner of a box, check if it is filled (all lines are \n",
    "    on the board).\n",
    "    \"\"\"\n",
    "    lines = board.lines\n",
    "    i,j = box\n",
    "    return (i,j,i+1,j) in lines and (i,j+1,i+1,j+1) in lines and\\\n",
    "            (i,j,i,j+1) in lines and (i+1,j,i+1,j+1) in lines\n",
    "\n",
    "\n",
    "def getnewboxes(lines:List[Line], line:Line)->List[Tuple[int]]:\n",
    "    \"\"\"\n",
    "    Returns list of NEW boxes created by adding one NEW *line* to the *lines* \n",
    "    that have already been drawn. \n",
    "    Boxes are denoted by the bottom-left corner.\n",
    "    \"\"\"\n",
    "    if line in lines:\n",
    "        return []\n",
    "\n",
    "    i,j,r,s = line\n",
    "\n",
    "    above = [(i,j+1,i+1,j+1), (i,j,i,j+1), (i+1,j,i+1,j+1)]\n",
    "    below = [(i,j-1,i,j), (i,j-1,i+1,j-1), (i+1,j-1,i+1,j)]\n",
    "    right = [(i,j+1,i+1,j+1), (i,j,i+1,j), (i+1,j,i+1,j+1)]\n",
    "    left  = [(i-1,j,i,j), (i-1,j,i-1,j+1), (i-1,j+1,i,j+1)]\n",
    "    \n",
    "    options = ()\n",
    "    if r-i == 1:\n",
    "        options = ((above, (i,j)), \n",
    "                   (below, (i,j-1)))\n",
    "    elif s-j == 1:\n",
    "        options = ((right, (i,j)),\n",
    "                   (left,  (i-1,j))) \n",
    "\n",
    "    newboxes = [box for (remaining, box) in options if all((l in lines for l in remaining))]\n",
    "    return newboxes\n"
   ]
  },
  {
   "cell_type": "code",
   "execution_count": 161,
   "id": "3b7665e0",
   "metadata": {},
   "outputs": [],
   "source": [
    "def isvalidmove(board:Board, move:List[Line])->bool:\n",
    "    \"\"\"\n",
    "    Checks validity of a move. A move is a list of lines made a player\n",
    "    in his/her turn.\n",
    "\n",
    "    If a line creates a filled box then there must a next line and so on, \n",
    "    until either no box is created or the game ends.\n",
    "    \"\"\"\n",
    "    n = board.size\n",
    "    #A move can be empty iff there are no more lines to made\n",
    "    if not move and len(board.lines) < 2*n*(n+1):\n",
    "        return False\n",
    "    #No repeated lines \n",
    "    if any((line in board.lines for line in move)) or\\\n",
    "        len(set(move)) != len(move):\n",
    "            return False\n",
    "    \n",
    "    #Each of the lines in the move before the last one, must add a new box\n",
    "    total_lines = list(board.lines) + move\n",
    "    for i in range(len(board.lines), len(total_lines)-1):\n",
    "        if not getnewboxes(total_lines[:i], total_lines[i]):\n",
    "            return False\n",
    "    \n",
    "    #The last line must either:\n",
    "    #   1. Be the last line of the game\n",
    "    #   2. NOT create a new box\n",
    "    if len(total_lines) < 2*n*(n+1) and getnewboxes(total_lines[:-1], move[-1]):\n",
    "        return False\n",
    "    \n",
    "    return True"
   ]
  },
  {
   "cell_type": "code",
   "execution_count": 92,
   "id": "ca684349",
   "metadata": {},
   "outputs": [],
   "source": [
    "from copy import copy\n",
    "\n",
    "def makemove(board:Board, move:List[Line], player:Literal[\"red\",\"blue\"], \n",
    "             copyboard=True, checkmove=True)->Board:\n",
    "    \"\"\"\n",
    "    Make a move i.e. add its line(s) to the board.\n",
    "    Returns a new board or changes board directly based on *copyboard*.\n",
    "    \"\"\"\n",
    "    if copyboard:\n",
    "        board = copy(board)\n",
    "    if checkmove and not isvalidmove(board, move):\n",
    "        print(f\"Invalid {move} for {board}\")\n",
    "        return board\n",
    "    \n",
    "    old_boxes = getboxes(board)\n",
    "    board.lines += move\n",
    "    new_boxes = getboxes(board)\n",
    "    added_boxes = [b for b in new_boxes if b not in old_boxes]\n",
    "    if player == \"red\":\n",
    "        board.red_boxes += added_boxes\n",
    "    else:\n",
    "        board.blue_boxes += added_boxes\n",
    "    \n",
    "    return board"
   ]
  },
  {
   "cell_type": "code",
   "execution_count": 166,
   "id": "9df1c9ff",
   "metadata": {},
   "outputs": [],
   "source": [
    "def get_all_lines(n:int)->List[Line]:\n",
    "    \"\"\"\n",
    "    Returns list of all 2n(n+1) lines possible on an n X n board.\n",
    "    \"\"\"\n",
    "    all_lines = [(i,j,i+1,j) for i in range(n) for j in range(n)]\n",
    "    all_lines += [(i,j,i,j+1) for i in range(n) for j in range(n)]\n",
    "    all_lines += [(n,i,n,i+1) for i in range(n)]\n",
    "    all_lines += [(i,n,i+1,n) for i in range(n)]\n",
    "    \n",
    "    all_lines = [(min(i,r),min(j,s),max(i,r),max(j,s)) for (i,j,r,s) in all_lines]\n",
    "    return all_lines"
   ]
  },
  {
   "cell_type": "code",
   "execution_count": 19,
   "id": "4a2b1a2c",
   "metadata": {},
   "outputs": [],
   "source": [
    "import random\n",
    "\n",
    "def make_random_move(board:Board)->List[Line]:\n",
    "    n = board.size\n",
    "    #All lines have already been made\n",
    "    if len(board.lines) >= 2*n*(n+1):\n",
    "        return []\n",
    "    \n",
    "    options = [l for l in get_all_lines(n) if l not in board.lines]\n",
    "    line = random.choice(options)\n",
    "    move = [line]\n",
    "    options.remove(line)\n",
    "\n",
    "    #As long as the line makes a box and is not the last line,\n",
    "    #make another line\n",
    "    while options and getnewboxes(board.lines+move[:-1], line):\n",
    "        line = random.choice(options)\n",
    "        move += [line]\n",
    "        options.remove(line)\n",
    "\n",
    "    if not isvalidmove(board, move):\n",
    "        print(\"Oops\",board,move)\n",
    "\n",
    "    return move"
   ]
  },
  {
   "cell_type": "code",
   "execution_count": 152,
   "id": "aea2dbdb",
   "metadata": {},
   "outputs": [
    {
     "name": "stdout",
     "output_type": "stream",
     "text": [
      "Board(size=2, lines=[], red_boxes=[], blue_boxes=[]) [(1, 1, 1, 2)]\n",
      "Board(size=2, lines=[(1, 1, 1, 2)], red_boxes=[], blue_boxes=[]) [(2, 1, 2, 2)]\n",
      "Board(size=2, lines=[(1, 1, 1, 2), (2, 1, 2, 2)], red_boxes=[], blue_boxes=[]) [(1, 1, 2, 1)]\n",
      "Board(size=2, lines=[(1, 1, 1, 2), (2, 1, 2, 2), (1, 1, 2, 1)], red_boxes=[], blue_boxes=[]) [(1, 0, 1, 1)]\n",
      "Board(size=2, lines=[(1, 1, 1, 2), (2, 1, 2, 2), (1, 1, 2, 1), (1, 0, 1, 1)], red_boxes=[], blue_boxes=[]) [(0, 0, 1, 0)]\n",
      "Board(size=2, lines=[(1, 1, 1, 2), (2, 1, 2, 2), (1, 1, 2, 1), (1, 0, 1, 1), (0, 0, 1, 0)], red_boxes=[], blue_boxes=[]) [(0, 1, 1, 1)]\n",
      "Board(size=2, lines=[(1, 1, 1, 2), (2, 1, 2, 2), (1, 1, 2, 1), (1, 0, 1, 1), (0, 0, 1, 0), (0, 1, 1, 1)], red_boxes=[], blue_boxes=[]) [(0, 1, 0, 2)]\n",
      "Board(size=2, lines=[(1, 1, 1, 2), (2, 1, 2, 2), (1, 1, 2, 1), (1, 0, 1, 1), (0, 0, 1, 0), (0, 1, 1, 1), (0, 1, 0, 2)], red_boxes=[], blue_boxes=[]) [(0, 0, 0, 1), (1, 0, 2, 0)]\n",
      "Board(size=2, lines=[(1, 1, 1, 2), (2, 1, 2, 2), (1, 1, 2, 1), (1, 0, 1, 1), (0, 0, 1, 0), (0, 1, 1, 1), (0, 1, 0, 2), (0, 0, 0, 1), (1, 0, 2, 0)], red_boxes=[], blue_boxes=[(0, 0)]) [(2, 0, 2, 1), (1, 2, 2, 2), (0, 2, 1, 2)]\n"
     ]
    }
   ],
   "source": [
    "b = Board(size=2)\n",
    "board_list = [b]\n",
    "m = make_random_move(b)\n",
    "player = 0\n",
    "while m:\n",
    "    print(b,m)\n",
    "    b = makemove(b,m,(\"red\",\"blue\")[player])\n",
    "    board_list += [b]\n",
    "    m = make_random_move(b)\n",
    "    player = 1-player\n",
    "    "
   ]
  },
  {
   "cell_type": "code",
   "execution_count": 20,
   "id": "266dc85c",
   "metadata": {},
   "outputs": [
    {
     "data": {
      "image/png": "[encoded data removed]",
      "text/plain": [
       "<PIL.PngImagePlugin.PngImageFile image mode=RGBA size=328x328 at 0x11F4D1E50>"
      ]
     },
     "metadata": {},
     "output_type": "display_data"
    },
    {
     "data": {
      "image/png": "[encoded data removed]",
      "text/plain": [
       "<PIL.PngImagePlugin.PngImageFile image mode=RGBA size=328x328 at 0x11F580F40>"
      ]
     },
     "metadata": {},
     "output_type": "display_data"
    },
    {
     "data": {
      "image/png": "[encoded data removed]",
      "text/plain": [
       "<PIL.PngImagePlugin.PngImageFile image mode=RGBA size=328x328 at 0x11F3E0DC0>"
      ]
     },
     "metadata": {},
     "output_type": "display_data"
    },
    {
     "data": {
      "image/png": "[encoded data removed]",
      "text/plain": [
       "<PIL.PngImagePlugin.PngImageFile image mode=RGBA size=328x328 at 0x11F710700>"
      ]
     },
     "metadata": {},
     "output_type": "display_data"
    },
    {
     "data": {
      "image/png": "[encoded data removed]",
      "text/plain": [
       "<PIL.PngImagePlugin.PngImageFile image mode=RGBA size=328x328 at 0x11F4D1C70>"
      ]
     },
     "metadata": {},
     "output_type": "display_data"
    },
    {
     "data": {
      "image/png": "[encoded data removed]",
      "text/plain": [
       "<PIL.PngImagePlugin.PngImageFile image mode=RGBA size=328x328 at 0x11F7B0790>"
      ]
     },
     "metadata": {},
     "output_type": "display_data"
    },
    {
     "data": {
      "image/png": "[encoded data removed]",
      "text/plain": [
       "<PIL.PngImagePlugin.PngImageFile image mode=RGBA size=328x328 at 0x11F5BCFA0>"
      ]
     },
     "metadata": {},
     "output_type": "display_data"
    },
    {
     "data": {
      "image/png": "[encoded data removed]",
      "text/plain": [
       "<PIL.PngImagePlugin.PngImageFile image mode=RGBA size=328x328 at 0x11F710760>"
      ]
     },
     "metadata": {},
     "output_type": "display_data"
    },
    {
     "data": {
      "image/png": "[encoded data removed]",
      "text/plain": [
       "<PIL.PngImagePlugin.PngImageFile image mode=RGBA size=328x328 at 0x11F758D30>"
      ]
     },
     "metadata": {},
     "output_type": "display_data"
    },
    {
     "data": {
      "image/png": "[encoded data removed]",
      "text/plain": [
       "<PIL.PngImagePlugin.PngImageFile image mode=RGBA size=328x328 at 0x11F7B0F10>"
      ]
     },
     "metadata": {},
     "output_type": "display_data"
    },
    {
     "data": {
      "image/png": "[encoded data removed]",
      "text/plain": [
       "<PIL.PngImagePlugin.PngImageFile image mode=RGBA size=328x328 at 0x12E07FF70>"
      ]
     },
     "metadata": {},
     "output_type": "display_data"
    },
    {
     "data": {
      "image/png": "[encoded data removed]",
      "text/plain": [
       "<PIL.PngImagePlugin.PngImageFile image mode=RGBA size=328x328 at 0x12E0EA580>"
      ]
     },
     "metadata": {},
     "output_type": "display_data"
    }
   ],
   "source": [
    "%matplotlib inline\n",
    "from IPython.display import display\n",
    "\n",
    "ims = [drawboard(b) for b in board_list]\n",
    "display(*ims)"
   ]
  },
  {
   "attachments": {},
   "cell_type": "markdown",
   "id": "09207cad",
   "metadata": {},
   "source": [
    "`board.py` contains all the helper functions you need.\n",
    "\n",
    "`draw.py` has the `drawboard` that we have been using."
   ]
  },
  {
   "attachments": {},
   "cell_type": "markdown",
   "id": "b9379059",
   "metadata": {},
   "source": [
    "## Tips\n",
    "\n",
    "1. My code *might* have bugs.\n",
    "2. Use the validation functions. \n",
    "3. Program the simplest strategy first. "
   ]
  }
 ],
 "metadata": {
  "kernelspec": {
   "display_name": "base",
   "language": "python",
   "name": "python3"
  },
  "language_info": {
   "codemirror_mode": {
    "name": "ipython",
    "version": 3
   },
   "file_extension": ".py",
   "mimetype": "text/x-python",
   "name": "python",
   "nbconvert_exporter": "python",
   "pygments_lexer": "ipython3",
   "version": "3.8.15"
  },
  "vscode": {
   "interpreter": {
    "hash": "bc18195e399a00b59958b598e1e85de09a48b66d7f79f1214243d9233bfa0c33"
   }
  }
 },
 "nbformat": 4,
 "nbformat_minor": 5
}
