{
 "cells": [
  {
   "cell_type": "code",
   "execution_count": 1,
   "metadata": {},
   "outputs": [],
   "source": [
    "from matplotlib.patches import Circle, Rectangle\n",
    "from matplotlib.lines import Line2D\n",
    "from matplotlib.collections import PatchCollection\n",
    "import matplotlib.pyplot as plt\n",
    "import io\n",
    "import PIL.Image as Image"
   ]
  },
  {
   "cell_type": "code",
   "execution_count": 4,
   "metadata": {},
   "outputs": [],
   "source": [
    "# Set size here\n",
    "# Click on a line to add it to clicklines, click again to undo\n",
    "n=4"
   ]
  },
  {
   "cell_type": "code",
   "execution_count": 5,
   "metadata": {},
   "outputs": [
    {
     "data": {
      "application/vnd.jupyter.widget-view+json": {
       "model_id": "e128b2be55634c6ea7952f7b5728a761",
       "version_major": 2,
       "version_minor": 0
      },
      "image/png": "[encoded data removed]",
      "text/html": [
       "\n",
       "            <div style=\"display: inline-block;\">\n",
       "                <div class=\"jupyter-widgets widget-label\" style=\"text-align: center;\">\n",
       "                    Figure\n",
       "                </div>\n",
       "                <img src='data:image/png;base64,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' width=400.0/>\n",
       "            </div>\n",
       "        "
      ],
      "text/plain": [
       "Canvas(toolbar=Toolbar(toolitems=[('Home', 'Reset original view', 'home', 'home'), ('Back', 'Back to previous …"
      ]
     },
     "metadata": {},
     "output_type": "display_data"
    }
   ],
   "source": [
    "%matplotlib widget\n",
    "\n",
    "fig, ax = plt.subplots()\n",
    "fig.set_size_inches(size,size)\n",
    "ax.set_ylim(-0.1, n+0.1)\n",
    "ax.set_xlim(-0.1, n+0.1)\n",
    "ax.set_aspect('equal')\n",
    "ax.set_axis_off()\n",
    "\n",
    "\n",
    "cr = 0.01\n",
    "patches = []\n",
    "black = [0,0,0,1]\n",
    "\n",
    "for i in range(n):\n",
    "    for j in range(n):\n",
    "        ax.add_artist(Line2D([i,i+1], [j, j],color=black,picker=6, pickradius=3))\n",
    "        ax.add_artist(Line2D([i,i], [j, j+1],color=black,picker=6, pickradius=3))\n",
    "\n",
    "for i in range(n):\n",
    "        ax.add_artist(Line2D([n,n], [i, i+1],color=black,picker=6, pickradius=3))\n",
    "        ax.add_artist(Line2D([i,i+1], [n, n],color=black,picker=6, pickradius=3))\n",
    "\n",
    "for i in range(n+1):\n",
    "    for j in range(n+1):\n",
    "        center = (i, j)\n",
    "        circle = Circle(center, cr)\n",
    "        circle.set_color([0,0,0,1])\n",
    "        patches.append(circle)\n",
    "\n",
    "p = PatchCollection(patches, match_original=True)\n",
    "ax.add_collection(p)\n",
    "\n",
    "clicklines = set()\n",
    "def onpick(event):\n",
    "    thisline = event.artist\n",
    "    xdata = thisline.get_xdata()\n",
    "    ydata = thisline.get_ydata()\n",
    "    l = (xdata[0],ydata[0],xdata[1],ydata[1])\n",
    "    if l not in clicklines:\n",
    "        thisline.set_color((0,0,1))\n",
    "        clicklines.add(l)\n",
    "        print(l)\n",
    "    else:\n",
    "        thisline.set_color(black)\n",
    "        clicklines.remove(l)\n",
    "        print(\"removed \",l)\n",
    "        \n",
    "\n",
    "fig.canvas.mpl_connect('pick_event', onpick)\n",
    "\n",
    "plt.show()\n"
   ]
  },
  {
   "cell_type": "code",
   "execution_count": 6,
   "metadata": {},
   "outputs": [
    {
     "data": {
      "text/plain": [
       "{(1, 1, 2, 1),\n",
       " (1, 3, 2, 3),\n",
       " (2, 1, 3, 1),\n",
       " (2, 2, 3, 2),\n",
       " (2, 3, 2, 4),\n",
       " (2, 3, 3, 3),\n",
       " (3, 1, 3, 2)}"
      ]
     },
     "execution_count": 6,
     "metadata": {},
     "output_type": "execute_result"
    }
   ],
   "source": [
    "clicklines"
   ]
  },
  {
   "cell_type": "code",
   "execution_count": null,
   "metadata": {},
   "outputs": [],
   "source": []
  }
 ],
 "metadata": {
  "kernelspec": {
   "display_name": "Python 3 (ipykernel)",
   "language": "python",
   "name": "python3"
  },
  "language_info": {
   "codemirror_mode": {
    "name": "ipython",
    "version": 3
   },
   "file_extension": ".py",
   "mimetype": "text/x-python",
   "name": "python",
   "nbconvert_exporter": "python",
   "pygments_lexer": "ipython3",
   "version": "3.8.15"
  },
  "vscode": {
   "interpreter": {
    "hash": "bc18195e399a00b59958b598e1e85de09a48b66d7f79f1214243d9233bfa0c33"
   }
  }
 },
 "nbformat": 4,
 "nbformat_minor": 2
}
