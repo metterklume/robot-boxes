{
 "cells": [
  {
   "cell_type": "code",
   "execution_count": 1,
   "metadata": {},
   "outputs": [],
   "source": [
    "from matplotlib.patches import Circle, Rectangle\n",
    "from matplotlib.lines import Line2D\n",
    "from matplotlib.collections import PatchCollection\n",
    "import matplotlib.pyplot as plt\n",
    "import io\n",
    "import PIL.Image as Image"
   ]
  },
  {
   "cell_type": "code",
   "execution_count": 5,
   "metadata": {},
   "outputs": [],
   "source": [
    "# Set size here\n",
    "# Click on a line to add it to clicklines, click again to undo\n",
    "size=4"
   ]
  },
  {
   "cell_type": "code",
   "execution_count": 6,
   "metadata": {},
   "outputs": [
    {
     "data": {
      "application/vnd.jupyter.widget-view+json": {
       "model_id": "bf8ff430b5bb475a9c1019674212ab09",
       "version_major": 2,
       "version_minor": 0
      },
      "image/png": "[encoded data removed]",
      "text/html": [
       "\n",
       "            <div style=\"display: inline-block;\">\n",
       "                <div class=\"jupyter-widgets widget-label\" style=\"text-align: center;\">\n",
       "                    Figure\n",
       "                </div>\n",
       "                <img src='data:image/png;base64,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' width=400.0/>\n",
       "            </div>\n",
       "        "
      ],
      "text/plain": [
       "Canvas(toolbar=Toolbar(toolitems=[('Home', 'Reset original view', 'home', 'home'), ('Back', 'Back to previous …"
      ]
     },
     "metadata": {},
     "output_type": "display_data"
    }
   ],
   "source": [
    "%matplotlib widget\n",
    "\n",
    "fig, ax = plt.subplots()\n",
    "fig.set_size_inches(size,size)\n",
    "ax.set_ylim(-0.1, n+0.1)\n",
    "ax.set_xlim(-0.1, n+0.1)\n",
    "ax.set_aspect('equal')\n",
    "ax.set_axis_off()\n",
    "\n",
    "\n",
    "cr = 0.01\n",
    "patches = []\n",
    "black = [0,0,0,1]\n",
    "\n",
    "for i in range(n):\n",
    "    for j in range(n):\n",
    "        ax.add_artist(Line2D([i,i+1], [j, j],color=black,picker=6, pickradius=3))\n",
    "        ax.add_artist(Line2D([i,i], [j, j+1],color=black,picker=6, pickradius=3))\n",
    "\n",
    "for i in range(n):\n",
    "        ax.add_artist(Line2D([n,n], [i, i+1],color=black,picker=6, pickradius=3))\n",
    "        ax.add_artist(Line2D([i,i+1], [n, n],color=black,picker=6, pickradius=3))\n",
    "\n",
    "for i in range(n+1):\n",
    "    for j in range(n+1):\n",
    "        center = (i, j)\n",
    "        circle = Circle(center, cr)\n",
    "        circle.set_color([0,0,0,1])\n",
    "        patches.append(circle)\n",
    "\n",
    "p = PatchCollection(patches, match_original=True)\n",
    "ax.add_collection(p)\n",
    "\n",
    "clicklines = set()\n",
    "def onpick(event):\n",
    "    thisline = event.artist\n",
    "    xdata = thisline.get_xdata()\n",
    "    ydata = thisline.get_ydata()\n",
    "    l = (xdata[0],ydata[0],xdata[1],ydata[1])\n",
    "    if l not in clicklines:\n",
    "        thisline.set_color((0,0,1))\n",
    "        clicklines.add(l)\n",
    "        print(l)\n",
    "    else:\n",
    "        thisline.set_color(black)\n",
    "        clicklines.remove(l)\n",
    "        print(\"removed \",l)\n",
    "        \n",
    "\n",
    "fig.canvas.mpl_connect('pick_event', onpick)\n",
    "\n",
    "plt.show()\n"
   ]
  }
 ],
 "metadata": {
  "kernelspec": {
   "display_name": "base",
   "language": "python",
   "name": "python3"
  },
  "language_info": {
   "codemirror_mode": {
    "name": "ipython",
    "version": 3
   },
   "file_extension": ".py",
   "mimetype": "text/x-python",
   "name": "python",
   "nbconvert_exporter": "python",
   "pygments_lexer": "ipython3",
   "version": "3.8.15 | packaged by conda-forge | (default, Jan 26 2023, 10:51:07) \n[Clang 14.0.6 ]"
  },
  "orig_nbformat": 4,
  "vscode": {
   "interpreter": {
    "hash": "bc18195e399a00b59958b598e1e85de09a48b66d7f79f1214243d9233bfa0c33"
   }
  }
 },
 "nbformat": 4,
 "nbformat_minor": 2
}
