{
 "cells": [
  {
   "cell_type": "code",
   "execution_count": 2,
   "id": "26fd79db",
   "metadata": {},
   "outputs": [],
   "source": [
    "%matplotlib widget"
   ]
  },
  {
   "cell_type": "code",
   "execution_count": 163,
   "metadata": {},
   "outputs": [],
   "source": [
    "\"\"\"\n",
    "Created on Mon Oct 12 14:30:00 2020\n",
    "\n",
    "@author: abhishekroy\n",
    "\"\"\"\n",
    "\n",
    "from dataclasses import dataclass\n",
    "from typing import List, Tuple, Set, Optional, Literal\n",
    "import numpy as np\n",
    "\n",
    "Line = Tuple[int,int,int,int]\n",
    "Box = Tuple[int,int]\n",
    "\n",
    "@dataclass\n",
    "class Board:\n",
    "    \"\"\"\n",
    "    Data describing the state of a square board at some stage in the game. \n",
    "\n",
    "    size  --> number of boxes in each row and column. Total boxes = size*size\n",
    "    lines --> lines on the board. each line (i,j,r,s) goes from (i,j) to (r,s)\n",
    "              IMPORTANT: ensure that i<=j and r<=s so lines go rightwards\n",
    "                         and upwards\n",
    "    red_boxes  --> Boxes made by the red player (moves first)\n",
    "    blue_boxes --> Boxes made by the blue player (moves second)\n",
    "    \"\"\"\n",
    "    size: int\n",
    "    \n",
    "    lines: List[Line] = None  \n",
    "    red_boxes: Optional[List[Box]] = None\n",
    "    blue_boxes: Optional[List[Box]] = None\n",
    "\n",
    "    def __post_init__(self):\n",
    "        self.lines = [] if self.lines is None else self.lines\n",
    "        self.red_boxes = [] if self.red_boxes is None else self.red_boxes\n",
    "        self.blue_boxes = [] if self.blue_boxes is None else self.blue_boxes\n",
    "\n",
    "    def __copy__(self):\n",
    "        return Board(size=self.size,lines=self.lines.copy(),red_boxes=self.red_boxes.copy(),\n",
    "                     blue_boxes=self.blue_boxes)\n",
    "    \n",
    "\n",
    "@dataclass\n",
    "class Game:\n",
    "    size: int\n",
    "    start: Optional[Board]\n",
    "    moves: List[List[Line]]\n"
   ]
  },
  {
   "cell_type": "code",
   "execution_count": 164,
   "id": "c20477b0",
   "metadata": {},
   "outputs": [],
   "source": [
    "def isvalidboard(board:Board)->bool:\n",
    "    \"\"\"\n",
    "    Check if the lines and red/blue boxes on the board are valid.\n",
    "    \"\"\"\n",
    "    n = board.size\n",
    "    valid = all((\n",
    "                0<=i<=n and 0<=j<=n and 0<=r<=n and 0<=s<=n and\\\n",
    "                abs(i-j)+abs(r-s) == 1 \\\n",
    "                    for (i,j,r,s) in board.lines\n",
    "                ))\n",
    "    \n",
    "    if board.red_boxes and board.blue_boxes:\n",
    "        boxes = set(getboxes(board))\n",
    "        valid = valid and all((b in boxes for b in board.red_boxes)) and\\\n",
    "                          all((b in boxes for b in board.blue_boxes)) and\\\n",
    "                          len(boxes) == len(board.red_boxes) + len(board.blue_boxes)\n",
    "    return valid"
   ]
  },
  {
   "cell_type": "code",
   "execution_count": 165,
   "id": "4278d7c5",
   "metadata": {},
   "outputs": [],
   "source": [
    "def getboxes(board:Board)->List[Tuple[int,int]]:\n",
    "    \"\"\"\n",
    "    Returns list of the bottom-left corners of all filled boxes.  \n",
    "    \"\"\"\n",
    "    lines = board.lines\n",
    "    boxes = []\n",
    "    for i in range(board.size):\n",
    "        for j in range(board.size):\n",
    "            if (i,j,i+1,j) in lines and\\\n",
    "               (i,j+1,i+1,j+1) in lines and\\\n",
    "               (i,j,i,j+1) in lines and\\\n",
    "               (i+1,j,i+1,j+1) in lines:\n",
    "                boxes.append((i,j)) \n",
    "               \n",
    "    return boxes\n",
    "\n",
    "\n",
    "def countboxes(board:Board)->int:\n",
    "    \"\"\"\n",
    "    Returns number of filled boxes on the board.\n",
    "    \"\"\"\n",
    "    return len(getboxes(board))\n",
    "\n",
    "\n",
    "def isboxfilled(board:Board, box:Tuple[int,int])->bool:\n",
    "    \"\"\"\n",
    "    Given the bottom-left corner of a box, check if it is filled (all lines are \n",
    "    on the board).\n",
    "    \"\"\"\n",
    "    lines = board.lines\n",
    "    i,j = box\n",
    "    return (i,j,i+1,j) in lines and (i,j+1,i+1,j+1) in lines and\\\n",
    "            (i,j,i,j+1) in lines and (i+1,j,i+1,j+1) in lines\n",
    "\n",
    "\n",
    "def getnewboxes(lines:List[Line], line:Line)->List[Tuple[int]]:\n",
    "    \"\"\"\n",
    "    Returns list of NEW boxes created by adding one NEW *line* to the *lines* \n",
    "    that have already been drawn. \n",
    "    Boxes are denoted by the bottom-left corner.\n",
    "    \"\"\"\n",
    "    if line in lines:\n",
    "        return []\n",
    "\n",
    "    i,j,r,s = line\n",
    "\n",
    "    above = [(i,j+1,i+1,j+1), (i,j,i,j+1), (i+1,j,i+1,j+1)]\n",
    "    below = [(i,j-1,i,j), (i,j-1,i+1,j-1), (i+1,j-1,i+1,j)]\n",
    "    right = [(i,j+1,i+1,j+1), (i,j,i+1,j), (i+1,j,i+1,j+1)]\n",
    "    left  = [(i-1,j,i,j), (i-1,j,i-1,j+1), (i-1,j+1,i,j+1)]\n",
    "    \n",
    "    options = ()\n",
    "    if r-i == 1:\n",
    "        options = ((above, (i,j)), \n",
    "                   (below, (i,j-1)))\n",
    "    elif s-j == 1:\n",
    "        options = ((right, (i,j)),\n",
    "                   (left,  (i-1,j))) \n",
    "\n",
    "    newboxes = [box for (remaining, box) in options if all((l in lines for l in remaining))]\n",
    "    return newboxes\n"
   ]
  },
  {
   "cell_type": "code",
   "execution_count": 161,
   "id": "3b7665e0",
   "metadata": {},
   "outputs": [],
   "source": [
    "def isvalidmove(board:Board, move:List[Line])->bool:\n",
    "    \"\"\"\n",
    "    Checks validity of a move. A move is a list of lines made a player\n",
    "    in his/her turn.\n",
    "\n",
    "    If a line creates a filled box then there must a next line and so on, \n",
    "    until either no box is created or the game ends.\n",
    "    \"\"\"\n",
    "    n = board.size\n",
    "    #A move can be empty iff there are no more lines to made\n",
    "    if not move and len(board.lines) < 2*n*(n+1):\n",
    "        return False\n",
    "    #No repeated lines \n",
    "    if any((line in board.lines for line in move)) or\\\n",
    "        len(set(move)) != len(move):\n",
    "            return False\n",
    "    \n",
    "    #Each of the lines in the move before the last one, must add a new box\n",
    "    total_lines = list(board.lines) + move\n",
    "    for i in range(len(board.lines), len(total_lines)-1):\n",
    "        if not getnewboxes(total_lines[:i], total_lines[i]):\n",
    "            return False\n",
    "    \n",
    "    #The last line must either:\n",
    "    #   1. Be the last line of the game\n",
    "    #   2. NOT create a new box\n",
    "    if len(total_lines) < 2*n*(n+1) and getnewboxes(total_lines[:-1], move[-1]):\n",
    "        return False\n",
    "    \n",
    "    return True"
   ]
  },
  {
   "cell_type": "code",
   "execution_count": 92,
   "id": "ca684349",
   "metadata": {},
   "outputs": [],
   "source": [
    "from copy import copy\n",
    "\n",
    "def makemove(board:Board, move:List[Line], player:Literal[\"red\",\"blue\"], \n",
    "             copyboard=True, checkmove=True)->Board:\n",
    "    \"\"\"\n",
    "    Make a move i.e. add its line(s) to the board.\n",
    "    Returns a new board or changes board directly based on *copyboard*.\n",
    "    \"\"\"\n",
    "    if copyboard:\n",
    "        board = copy(board)\n",
    "    if checkmove and not isvalidmove(board, move):\n",
    "        print(f\"Invalid {move} for {board}\")\n",
    "        return board\n",
    "    \n",
    "    old_boxes = getboxes(board)\n",
    "    board.lines += move\n",
    "    new_boxes = getboxes(board)\n",
    "    added_boxes = [b for b in new_boxes if b not in old_boxes]\n",
    "    if player == \"red\":\n",
    "        board.red_boxes += added_boxes\n",
    "    else:\n",
    "        board.blue_boxes += added_boxes\n",
    "    \n",
    "    return board"
   ]
  },
  {
   "cell_type": "code",
   "execution_count": 166,
   "id": "9df1c9ff",
   "metadata": {},
   "outputs": [],
   "source": [
    "def get_all_lines(n:int)->List[Line]:\n",
    "    \"\"\"\n",
    "    Returns list of all 2n(n+1) lines possible on an n X n board.\n",
    "    \"\"\"\n",
    "    all_lines = [(i,j,i+1,j) for i in range(n) for j in range(n)]\n",
    "    all_lines += [(i,j,i,j+1) for i in range(n) for j in range(n)]\n",
    "    all_lines += [(n,i,n,i+1) for i in range(n)]\n",
    "    all_lines += [(i,n,i+1,n) for i in range(n)]\n",
    "    \n",
    "    all_lines = [(min(i,r),min(j,s),max(i,r),max(j,s)) for (i,j,r,s) in all_lines]\n",
    "    return all_lines"
   ]
  },
  {
   "cell_type": "code",
   "execution_count": 151,
   "id": "4a2b1a2c",
   "metadata": {},
   "outputs": [],
   "source": [
    "import random\n",
    "\n",
    "def make_random_move(board:Board)->List[Line]:\n",
    "    n = board.size\n",
    "    #All lines have already been made\n",
    "    if len(board.lines) >= 2*n*(n+1):\n",
    "        return []\n",
    "    \n",
    "    options = [l for l in get_all_lines(n) if l not in board.lines]\n",
    "    line = random.choice(options)\n",
    "    move = [line]\n",
    "    options.remove(line)\n",
    "\n",
    "    #As long as the line makes a box and is not the last line,\n",
    "    #make another line\n",
    "    while options and getnewboxes(board.lines+move[:-1], line):\n",
    "        line = random.choice(options)\n",
    "        move += [line]\n",
    "        options.remove(line)\n",
    "\n",
    "    if not isvalidmove(board, move):\n",
    "        print(\"Oops\",board,move)\n",
    "\n",
    "    return move"
   ]
  },
  {
   "cell_type": "code",
   "execution_count": 152,
   "id": "aea2dbdb",
   "metadata": {},
   "outputs": [
    {
     "name": "stdout",
     "output_type": "stream",
     "text": [
      "Board(size=2, lines=[], red_boxes=[], blue_boxes=[]) [(1, 1, 1, 2)]\n",
      "Board(size=2, lines=[(1, 1, 1, 2)], red_boxes=[], blue_boxes=[]) [(2, 1, 2, 2)]\n",
      "Board(size=2, lines=[(1, 1, 1, 2), (2, 1, 2, 2)], red_boxes=[], blue_boxes=[]) [(1, 1, 2, 1)]\n",
      "Board(size=2, lines=[(1, 1, 1, 2), (2, 1, 2, 2), (1, 1, 2, 1)], red_boxes=[], blue_boxes=[]) [(1, 0, 1, 1)]\n",
      "Board(size=2, lines=[(1, 1, 1, 2), (2, 1, 2, 2), (1, 1, 2, 1), (1, 0, 1, 1)], red_boxes=[], blue_boxes=[]) [(0, 0, 1, 0)]\n",
      "Board(size=2, lines=[(1, 1, 1, 2), (2, 1, 2, 2), (1, 1, 2, 1), (1, 0, 1, 1), (0, 0, 1, 0)], red_boxes=[], blue_boxes=[]) [(0, 1, 1, 1)]\n",
      "Board(size=2, lines=[(1, 1, 1, 2), (2, 1, 2, 2), (1, 1, 2, 1), (1, 0, 1, 1), (0, 0, 1, 0), (0, 1, 1, 1)], red_boxes=[], blue_boxes=[]) [(0, 1, 0, 2)]\n",
      "Board(size=2, lines=[(1, 1, 1, 2), (2, 1, 2, 2), (1, 1, 2, 1), (1, 0, 1, 1), (0, 0, 1, 0), (0, 1, 1, 1), (0, 1, 0, 2)], red_boxes=[], blue_boxes=[]) [(0, 0, 0, 1), (1, 0, 2, 0)]\n",
      "Board(size=2, lines=[(1, 1, 1, 2), (2, 1, 2, 2), (1, 1, 2, 1), (1, 0, 1, 1), (0, 0, 1, 0), (0, 1, 1, 1), (0, 1, 0, 2), (0, 0, 0, 1), (1, 0, 2, 0)], red_boxes=[], blue_boxes=[(0, 0)]) [(2, 0, 2, 1), (1, 2, 2, 2), (0, 2, 1, 2)]\n"
     ]
    }
   ],
   "source": [
    "b = Board(size=2)\n",
    "bl = [b]\n",
    "m = make_random_move(b)\n",
    "player = 0\n",
    "while m:\n",
    "    print(b,m)\n",
    "    b = makemove(b,m,(\"red\",\"blue\")[player])\n",
    "    bl += [b]\n",
    "    m = make_random_move(b)\n",
    "    player = 1-player\n",
    "    "
   ]
  },
  {
   "cell_type": "code",
   "execution_count": 154,
   "id": "5f5c6d5f",
   "metadata": {},
   "outputs": [
    {
     "data": {
      "text/plain": [
       "10"
      ]
     },
     "execution_count": 154,
     "metadata": {},
     "output_type": "execute_result"
    }
   ],
   "source": [
    "len(bl)"
   ]
  },
  {
   "cell_type": "code",
   "execution_count": 153,
   "id": "db886ca7",
   "metadata": {},
   "outputs": [
    {
     "data": {
      "image/png": "[encoded data removed]",
      "text/plain": [
       "<PIL.PngImagePlugin.PngImageFile image mode=RGBA size=328x328 at 0x1546EDA00>"
      ]
     },
     "metadata": {},
     "output_type": "display_data"
    },
    {
     "data": {
      "image/png": "[encoded data removed]",
      "text/plain": [
       "<PIL.PngImagePlugin.PngImageFile image mode=RGBA size=328x328 at 0x1543353A0>"
      ]
     },
     "metadata": {},
     "output_type": "display_data"
    },
    {
     "data": {
      "image/png": "[encoded data removed]",
      "text/plain": [
       "<PIL.PngImagePlugin.PngImageFile image mode=RGBA size=328x328 at 0x1545081F0>"
      ]
     },
     "metadata": {},
     "output_type": "display_data"
    },
    {
     "data": {
      "image/png": "[encoded data removed]",
      "text/plain": [
       "<PIL.PngImagePlugin.PngImageFile image mode=RGBA size=328x328 at 0x154881370>"
      ]
     },
     "metadata": {},
     "output_type": "display_data"
    },
    {
     "data": {
      "image/png": "[encoded data removed]",
      "text/plain": [
       "<PIL.PngImagePlugin.PngImageFile image mode=RGBA size=328x328 at 0x1544D58B0>"
      ]
     },
     "metadata": {},
     "output_type": "display_data"
    },
    {
     "data": {
      "image/png": "[encoded data removed]",
      "text/plain": [
       "<PIL.PngImagePlugin.PngImageFile image mode=RGBA size=328x328 at 0x1548420D0>"
      ]
     },
     "metadata": {},
     "output_type": "display_data"
    },
    {
     "data": {
      "image/png": "[encoded data removed]",
      "text/plain": [
       "<PIL.PngImagePlugin.PngImageFile image mode=RGBA size=328x328 at 0x154954730>"
      ]
     },
     "metadata": {},
     "output_type": "display_data"
    },
    {
     "data": {
      "image/png": "[encoded data removed]",
      "text/plain": [
       "<PIL.PngImagePlugin.PngImageFile image mode=RGBA size=328x328 at 0x1543537F0>"
      ]
     },
     "metadata": {},
     "output_type": "display_data"
    },
    {
     "data": {
      "image/png": "[encoded data removed]",
      "text/plain": [
       "<PIL.PngImagePlugin.PngImageFile image mode=RGBA size=328x328 at 0x1546FC610>"
      ]
     },
     "metadata": {},
     "output_type": "display_data"
    },
    {
     "data": {
      "image/png": "[encoded data removed]",
      "text/plain": [
       "<PIL.PngImagePlugin.PngImageFile image mode=RGBA size=328x328 at 0x1543D5880>"
      ]
     },
     "metadata": {},
     "output_type": "display_data"
    }
   ],
   "source": [
    "%matplotlib inline\n",
    "from IPython.display import display\n",
    "\n",
    "ims = [drawboard(b) for b in bl]\n",
    "display(*ims)"
   ]
  },
  {
   "cell_type": "code",
   "execution_count": 150,
   "id": "05c051cf",
   "metadata": {},
   "outputs": [
    {
     "data": {
      "image/png": "[encoded data removed]",
      "text/plain": [
       "<PIL.PngImagePlugin.PngImageFile image mode=RGBA size=328x328 at 0x154697E20>"
      ]
     },
     "execution_count": 150,
     "metadata": {},
     "output_type": "execute_result"
    }
   ],
   "source": [
    "drawboard(bl[-1])"
   ]
  },
  {
   "cell_type": "code",
   "execution_count": 32,
   "id": "db70dccd",
   "metadata": {},
   "outputs": [
    {
     "data": {
      "text/plain": [
       "(0, 0, 0, 1)"
      ]
     },
     "execution_count": 32,
     "metadata": {},
     "output_type": "execute_result"
    }
   ],
   "source": [
    "l"
   ]
  },
  {
   "cell_type": "code",
   "execution_count": 31,
   "id": "d28ed230",
   "metadata": {},
   "outputs": [
    {
     "data": {
      "text/plain": [
       "[(0, 0, 1, 0),\n",
       " (0, 1, 1, 1),\n",
       " (1, 0, 2, 0),\n",
       " (1, 1, 2, 1),\n",
       " (0, 1, 0, 2),\n",
       " (1, 0, 1, 1),\n",
       " (1, 1, 1, 2),\n",
       " (2, 0, 2, 1),\n",
       " (2, 1, 2, 2),\n",
       " (0, 2, 1, 2),\n",
       " (1, 2, 2, 2)]"
      ]
     },
     "execution_count": 31,
     "metadata": {},
     "output_type": "execute_result"
    }
   ],
   "source": [
    "b.lines"
   ]
  },
  {
   "cell_type": "code",
   "execution_count": 28,
   "id": "6e4de51f",
   "metadata": {},
   "outputs": [
    {
     "data": {
      "text/plain": [
       "(0, 0, 0, 1)"
      ]
     },
     "execution_count": 28,
     "metadata": {},
     "output_type": "execute_result"
    }
   ],
   "source": [
    "l"
   ]
  },
  {
   "cell_type": "code",
   "execution_count": 168,
   "id": "d3acce19",
   "metadata": {},
   "outputs": [],
   "source": [
    "from matplotlib.patches import Circle, Rectangle\n",
    "from matplotlib.lines import Line2D\n",
    "from matplotlib.collections import PatchCollection\n",
    "import matplotlib.pyplot as plt\n",
    "\n",
    "import io\n",
    "import PIL.Image as Image"
   ]
  },
  {
   "attachments": {},
   "cell_type": "markdown",
   "id": "b2c27282",
   "metadata": {},
   "source": [
    "## MALAI Challenge - Dots and Boxes"
   ]
  },
  {
   "cell_type": "code",
   "execution_count": 184,
   "id": "114b9b94",
   "metadata": {},
   "outputs": [],
   "source": [
    "def drawboard(board,size=4):\n",
    "    '''Draw a board. Requires matplotlib and PIL'''\n",
    "    fig, ax = plt.subplots()\n",
    "\n",
    "    fig.set_size_inches(size,size)\n",
    "    ax.set_ylim(-1.2, 0.2)\n",
    "    ax.set_xlim(-1.2, 0.2)\n",
    "    ax.set_aspect('equal')\n",
    "    ax.set_axis_off()\n",
    "\n",
    "    patches = []\n",
    "\n",
    "    ox, oy = (-1,-1)\n",
    "    n = board.size\n",
    "    cr = 0.01\n",
    "    patches = []\n",
    "\n",
    "    for (i,j,r,s) in board.lines:\n",
    "        x,y,xx,yy = ox+i/n, oy+j/n, ox+r/n, oy+s/n\n",
    "        ax.add_artist(Line2D([x, xx], [y, yy],color=(0.1,0.1,0.1,0.8)))\n",
    "\n",
    "    for i in range(n+1):\n",
    "        for j in range(n+1):\n",
    "            center = (ox+i/n, oy+j/n)\n",
    "            circle = Circle(center, cr)\n",
    "            circle.set_color([0,0,0,1])\n",
    "            patches.append(circle)\n",
    "\n",
    "    for i in range(n):\n",
    "        for j in range(n):\n",
    "            if isboxfilled(board, (i,j)):\n",
    "                if (i,j) in board.red_boxes:\n",
    "                    color = (1,0,0,0.5)\n",
    "                elif (i,j) in board.blue_boxes:\n",
    "                    color = (0,0,1,0.5)\n",
    "                else:\n",
    "                    color = (0,0,0,0.5)\n",
    "                rect = Rectangle((ox+i/n+0.1/n, oy+j/n+0.1/n), 0.8/n, 0.8/n,color=color)\n",
    "                patches.append(rect)\n",
    "\n",
    "    for i in range(n+1):\n",
    "        for center in [(ox+i/n,oy-0.1), (ox-0.1,oy+i/n)]:\n",
    "            ax.annotate(str(i), center, fontsize=12, ha='center',va='center',\n",
    "                    weight=\"light\")\n",
    "\n",
    "    p = PatchCollection(patches, match_original=True)\n",
    "    ax.add_collection(p)\n",
    "\n",
    "    buf = io.BytesIO()\n",
    "    fig.savefig(buf, format='png',bbox_inches='tight')\n",
    "    buf.seek(0)\n",
    "    im = Image.open(buf)\n",
    "    plt.close(fig) #don't display image\n",
    "    return im"
   ]
  },
  {
   "attachments": {},
   "cell_type": "markdown",
   "id": "b68fccce",
   "metadata": {},
   "source": [
    "### Testing"
   ]
  },
  {
   "cell_type": "code",
   "execution_count": 178,
   "id": "3e9b601b",
   "metadata": {},
   "outputs": [
    {
     "ename": "TypeError",
     "evalue": "argument of type 'Board' is not iterable",
     "output_type": "error",
     "traceback": [
      "\u001b[0;31m---------------------------------------------------------------------------\u001b[0m",
      "\u001b[0;31mTypeError\u001b[0m                                 Traceback (most recent call last)",
      "\u001b[1;32m/Users/abhishekroy/Documents/github/malai/robot-boxes/Start.ipynb Cell 19\u001b[0m in \u001b[0;36m<cell line: 5>\u001b[0;34m()\u001b[0m\n\u001b[1;32m      <a href='vscode-notebook-cell:/Users/abhishekroy/Documents/github/malai/robot-boxes/Start.ipynb#X20sZmlsZQ%3D%3D?line=5'>6</a>\u001b[0m b\u001b[39m.\u001b[39mlines\u001b[39m.\u001b[39mremove(l)\n\u001b[1;32m      <a href='vscode-notebook-cell:/Users/abhishekroy/Documents/github/malai/robot-boxes/Start.ipynb#X20sZmlsZQ%3D%3D?line=6'>7</a>\u001b[0m (i,j,r,s) \u001b[39m=\u001b[39m l\n\u001b[0;32m----> <a href='vscode-notebook-cell:/Users/abhishekroy/Documents/github/malai/robot-boxes/Start.ipynb#X20sZmlsZQ%3D%3D?line=7'>8</a>\u001b[0m \u001b[39mprint\u001b[39m(countboxes(b), getnewboxes(b,l))\n\u001b[1;32m      <a href='vscode-notebook-cell:/Users/abhishekroy/Documents/github/malai/robot-boxes/Start.ipynb#X20sZmlsZQ%3D%3D?line=8'>9</a>\u001b[0m \u001b[39mprint\u001b[39m(\u001b[39mall\u001b[39m((box \u001b[39mnot\u001b[39;00m \u001b[39min\u001b[39;00m getboxes(b) \u001b[39mfor\u001b[39;00m box \u001b[39min\u001b[39;00m getnewboxes(b,l))))\n\u001b[1;32m     <a href='vscode-notebook-cell:/Users/abhishekroy/Documents/github/malai/robot-boxes/Start.ipynb#X20sZmlsZQ%3D%3D?line=9'>10</a>\u001b[0m b\u001b[39m.\u001b[39mlines\u001b[39m.\u001b[39mappend(l)\n",
      "\u001b[1;32m/Users/abhishekroy/Documents/github/malai/robot-boxes/Start.ipynb Cell 19\u001b[0m in \u001b[0;36mgetnewboxes\u001b[0;34m(lines, line)\u001b[0m\n\u001b[1;32m     <a href='vscode-notebook-cell:/Users/abhishekroy/Documents/github/malai/robot-boxes/Start.ipynb#X20sZmlsZQ%3D%3D?line=35'>36</a>\u001b[0m \u001b[39mdef\u001b[39;00m \u001b[39mgetnewboxes\u001b[39m(lines:List[Line], line:Line)\u001b[39m-\u001b[39m\u001b[39m>\u001b[39mList[Tuple[\u001b[39mint\u001b[39m]]:\n\u001b[1;32m     <a href='vscode-notebook-cell:/Users/abhishekroy/Documents/github/malai/robot-boxes/Start.ipynb#X20sZmlsZQ%3D%3D?line=36'>37</a>\u001b[0m     \u001b[39m\"\"\"\u001b[39;00m\n\u001b[1;32m     <a href='vscode-notebook-cell:/Users/abhishekroy/Documents/github/malai/robot-boxes/Start.ipynb#X20sZmlsZQ%3D%3D?line=37'>38</a>\u001b[0m \u001b[39m    Returns list of NEW boxes created by adding one NEW *line* to the *lines* \u001b[39;00m\n\u001b[1;32m     <a href='vscode-notebook-cell:/Users/abhishekroy/Documents/github/malai/robot-boxes/Start.ipynb#X20sZmlsZQ%3D%3D?line=38'>39</a>\u001b[0m \u001b[39m    that have already been drawn. \u001b[39;00m\n\u001b[1;32m     <a href='vscode-notebook-cell:/Users/abhishekroy/Documents/github/malai/robot-boxes/Start.ipynb#X20sZmlsZQ%3D%3D?line=39'>40</a>\u001b[0m \u001b[39m    Boxes are denoted by the bottom-left corner.\u001b[39;00m\n\u001b[1;32m     <a href='vscode-notebook-cell:/Users/abhishekroy/Documents/github/malai/robot-boxes/Start.ipynb#X20sZmlsZQ%3D%3D?line=40'>41</a>\u001b[0m \u001b[39m    \"\"\"\u001b[39;00m\n\u001b[0;32m---> <a href='vscode-notebook-cell:/Users/abhishekroy/Documents/github/malai/robot-boxes/Start.ipynb#X20sZmlsZQ%3D%3D?line=41'>42</a>\u001b[0m     \u001b[39mif\u001b[39;00m line \u001b[39min\u001b[39;49;00m lines:\n\u001b[1;32m     <a href='vscode-notebook-cell:/Users/abhishekroy/Documents/github/malai/robot-boxes/Start.ipynb#X20sZmlsZQ%3D%3D?line=42'>43</a>\u001b[0m         \u001b[39mreturn\u001b[39;00m []\n\u001b[1;32m     <a href='vscode-notebook-cell:/Users/abhishekroy/Documents/github/malai/robot-boxes/Start.ipynb#X20sZmlsZQ%3D%3D?line=44'>45</a>\u001b[0m     i,j,r,s \u001b[39m=\u001b[39m line\n",
      "\u001b[0;31mTypeError\u001b[0m: argument of type 'Board' is not iterable"
     ]
    }
   ],
   "source": [
    "n=2\n",
    "lines = get_all_lines(n)\n",
    "b = Board(size=2,lines=lines.copy())\n",
    "\n",
    "for l in lines:\n",
    "    b.lines.remove(l)\n",
    "    (i,j,r,s) = l\n",
    "    print(countboxes(b), getnewboxes(b,l))\n",
    "    print(all((box not in getboxes(b) for box in getnewboxes(b,l))))\n",
    "    b.lines.append(l)"
   ]
  },
  {
   "cell_type": "code",
   "execution_count": 185,
   "id": "121eecd6",
   "metadata": {},
   "outputs": [
    {
     "data": {
      "image/png": "[encoded data removed]",
      "text/plain": [
       "<PIL.PngImagePlugin.PngImageFile image mode=RGBA size=328x328 at 0x15480E490>"
      ]
     },
     "execution_count": 185,
     "metadata": {},
     "output_type": "execute_result"
    }
   ],
   "source": [
    "drawboard(b)"
   ]
  },
  {
   "cell_type": "code",
   "execution_count": 186,
   "id": "999d7ee1",
   "metadata": {},
   "outputs": [
    {
     "data": {
      "image/png": "[encoded data removed]",
      "text/plain": [
       "<PIL.PngImagePlugin.PngImageFile image mode=RGBA size=328x328 at 0x154A633A0>"
      ]
     },
     "execution_count": 186,
     "metadata": {},
     "output_type": "execute_result"
    }
   ],
   "source": [
    "bb = Board(size=5)\n",
    "drawboard(bb)"
   ]
  },
  {
   "cell_type": "code",
   "execution_count": 74,
   "id": "32dc2021",
   "metadata": {},
   "outputs": [
    {
     "data": {
      "text/plain": [
       "True"
      ]
     },
     "execution_count": 74,
     "metadata": {},
     "output_type": "execute_result"
    }
   ],
   "source": [
    "isvalidmove(b,[(1,1,1,2)])"
   ]
  },
  {
   "cell_type": "code",
   "execution_count": 204,
   "id": "367d37b4",
   "metadata": {},
   "outputs": [],
   "source": [
    "import random\n",
    "from copy import copy\n",
    "\n",
    "ll = get_all_lines(2)\n",
    "b = Board(2, [], 0, 0)\n",
    "bb = []\n",
    "while ll:\n",
    "    l = random.choice(ll)\n",
    "    ll.remove(l)\n",
    "    b.lines.append(l)\n",
    "    bb.append(copy(b))"
   ]
  },
  {
   "cell_type": "code",
   "execution_count": 205,
   "id": "9b8d2880",
   "metadata": {},
   "outputs": [],
   "source": [
    "ims = [drawboard(b) for b in bb]"
   ]
  },
  {
   "cell_type": "code",
   "execution_count": 213,
   "id": "fc7f8749",
   "metadata": {},
   "outputs": [
    {
     "data": {
      "image/png": "[encoded data removed]",
      "text/plain": [
       "<PIL.PngImagePlugin.PngImageFile image mode=RGBA size=328x328 at 0x16C88D6A0>"
      ]
     },
     "execution_count": 213,
     "metadata": {},
     "output_type": "execute_result"
    }
   ],
   "source": [
    "ims[11]"
   ]
  },
  {
   "cell_type": "code",
   "execution_count": 133,
   "id": "a695f82f",
   "metadata": {},
   "outputs": [
    {
     "data": {
      "application/vnd.jupyter.widget-view+json": {
       "model_id": "3f6366c28f3648329209a82a517a20b2",
       "version_major": 2,
       "version_minor": 0
      },
      "image/png": "[encoded data removed]",
      "text/html": [
       "\n",
       "            <div style=\"display: inline-block;\">\n",
       "                <div class=\"jupyter-widgets widget-label\" style=\"text-align: center;\">\n",
       "                    Figure\n",
       "                </div>\n",
       "                <img src='data:image/png;base64,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' width=400.0/>\n",
       "            </div>\n",
       "        "
      ],
      "text/plain": [
       "Canvas(toolbar=Toolbar(toolitems=[('Home', 'Reset original view', 'home', 'home'), ('Back', 'Back to previous …"
      ]
     },
     "metadata": {},
     "output_type": "display_data"
    },
    {
     "name": "stdout",
     "output_type": "stream",
     "text": [
      "(0, 2, 1, 2)\n",
      "(1, 2, 2, 2)\n",
      "(2, 1, 2, 2)\n",
      "(1, 1, 2, 1)\n",
      "(0, 1, 1, 1)\n",
      "removed  (0, 1, 1, 1)\n",
      "(1, 0, 1, 1)\n",
      "(0, 0, 1, 0)\n",
      "(0, 0, 0, 1)\n",
      "(0, 1, 0, 2)\n"
     ]
    }
   ],
   "source": [
    "%matplotlib widget\n",
    "\n",
    "fig, ax = plt.subplots()\n",
    "n=2\n",
    "size=4\n",
    "fig.set_size_inches(size,size)\n",
    "ax.set_ylim(-0.1, n+0.1)\n",
    "ax.set_xlim(-0.1, n+0.1)\n",
    "ax.set_aspect('equal')\n",
    "ax.set_axis_off()\n",
    "\n",
    "\n",
    "cr = 0.01\n",
    "patches = []\n",
    "black = [0,0,0,1]\n",
    "\n",
    "for i in range(n):\n",
    "    for j in range(n):\n",
    "        ax.add_artist(Line2D([i,i+1], [j, j],color=black,picker=6, pickradius=3))\n",
    "        ax.add_artist(Line2D([i,i], [j, j+1],color=black,picker=6, pickradius=3))\n",
    "\n",
    "for i in range(n):\n",
    "        ax.add_artist(Line2D([n,n], [i, i+1],color=black,picker=6, pickradius=3))\n",
    "        ax.add_artist(Line2D([i,i+1], [n, n],color=black,picker=6, pickradius=3))\n",
    "\n",
    "for i in range(n+1):\n",
    "    for j in range(n+1):\n",
    "        center = (i, j)\n",
    "        circle = Circle(center, cr)\n",
    "        circle.set_color([0,0,0,1])\n",
    "        patches.append(circle)\n",
    "\n",
    "p = PatchCollection(patches, match_original=True)\n",
    "ax.add_collection(p)\n",
    "\n",
    "clicklines = set()\n",
    "def onpick(event):\n",
    "    thisline = event.artist\n",
    "    xdata = thisline.get_xdata()\n",
    "    ydata = thisline.get_ydata()\n",
    "    l = (xdata[0],ydata[0],xdata[1],ydata[1])\n",
    "    if l not in clicklines:\n",
    "        thisline.set_color((0,0,1))\n",
    "        clicklines.add(l)\n",
    "        print(l)\n",
    "    else:\n",
    "        thisline.set_color(black)\n",
    "        clicklines.remove(l)\n",
    "        print(\"removed \",l)\n",
    "        \n",
    "\n",
    "fig.canvas.mpl_connect('pick_event', onpick)\n",
    "\n",
    "plt.show()\n"
   ]
  },
  {
   "cell_type": "code",
   "execution_count": 135,
   "id": "8163ff30",
   "metadata": {},
   "outputs": [
    {
     "data": {
      "text/plain": [
       "8"
      ]
     },
     "execution_count": 135,
     "metadata": {},
     "output_type": "execute_result"
    }
   ],
   "source": [
    "len(clicklines)"
   ]
  },
  {
   "cell_type": "code",
   "execution_count": 136,
   "id": "d15c1eda",
   "metadata": {},
   "outputs": [],
   "source": [
    "bb=Board(2,lines=clicklines)"
   ]
  },
  {
   "cell_type": "code",
   "execution_count": 137,
   "id": "ce56d046",
   "metadata": {},
   "outputs": [
    {
     "data": {
      "text/plain": [
       "[(0, 0)]"
      ]
     },
     "execution_count": 137,
     "metadata": {},
     "output_type": "execute_result"
    }
   ],
   "source": [
    "getnewboxes(bb.lines,(0,1,1,1))"
   ]
  },
  {
   "cell_type": "code",
   "execution_count": 138,
   "id": "88c6c9b0",
   "metadata": {},
   "outputs": [
    {
     "data": {
      "text/plain": [
       "False"
      ]
     },
     "execution_count": 138,
     "metadata": {},
     "output_type": "execute_result"
    }
   ],
   "source": [
    "isvalidmove(bb, [(0,1,1,1)])"
   ]
  },
  {
   "cell_type": "code",
   "execution_count": null,
   "id": "59a536f8",
   "metadata": {},
   "outputs": [],
   "source": []
  }
 ],
 "metadata": {
  "kernelspec": {
   "display_name": "base",
   "language": "python",
   "name": "python3"
  },
  "language_info": {
   "codemirror_mode": {
    "name": "ipython",
    "version": 3
   },
   "file_extension": ".py",
   "mimetype": "text/x-python",
   "name": "python",
   "nbconvert_exporter": "python",
   "pygments_lexer": "ipython3",
   "version": "3.8.15"
  },
  "vscode": {
   "interpreter": {
    "hash": "bc18195e399a00b59958b598e1e85de09a48b66d7f79f1214243d9233bfa0c33"
   }
  }
 },
 "nbformat": 4,
 "nbformat_minor": 5
}
